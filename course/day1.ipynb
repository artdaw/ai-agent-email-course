{
 "cells": [
  {
   "cell_type": "code",
   "execution_count": null,
   "id": "7500d0a2",
   "metadata": {},
   "outputs": [
    {
     "name": "stdout",
     "output_type": "stream",
     "text": [
      "FAQ documents: 1219\n",
      "Evidently documents: 95\n"
     ]
    }
   ],
   "source": [
    "import io\n",
    "import zipfile\n",
    "import requests\n",
    "import frontmatter\n",
    "\n",
    "def build_repository_url(owner: str, repo: str, branch: str = 'main') -> str:\n",
    "    return f'https://codeload.github.com/{owner}/{repo}/zip/refs/heads/{branch}'\n",
    "\n",
    "def process_markdown_file(z: zipfile.ZipFile, file_info: zipfile.ZipInfo) -> dict[str, object] | None:\n",
    "    try:\n",
    "        with z.open(file_info) as f:\n",
    "            content = f.read().decode('utf-8')\n",
    "            post = frontmatter.loads(content)\n",
    "            data = post.to_dict()\n",
    "            data['filename'] = file_info\n",
    "            return data\n",
    "    except Exception as e:\n",
    "        print(f\"Error processing {file_info.filename}: {e}\")\n",
    "        return None\n",
    "\n",
    "def read_zip_from_url(url: str) -> list[dict]:\n",
    "    response = requests.get(url)\n",
    "    repository_data = []\n",
    "    try:\n",
    "        with zipfile.ZipFile(io.BytesIO(response.content)) as z:\n",
    "            for file_info in z.infolist():\n",
    "                if file_info.filename.endswith('.md') or file_info.filename.endswith('.mdx'):\n",
    "                    repository_data.append(process_markdown_file(z, file_info))\n",
    "    except Exception as e:\n",
    "        print(f\"Error reading zip file: {e}\")\n",
    "\n",
    "    return [data for data in repository_data if data is not None]\n",
    "\n",
    "def main():\n",
    "    dtc_faq = read_zip_from_url(build_repository_url('DataTalksClub', 'faq'))\n",
    "    evidently_docs = read_zip_from_url(build_repository_url('evidentlyai', 'docs'))\n",
    "\n",
    "    print(f\"FAQ documents: {len(dtc_faq)}\")\n",
    "    print(f\"Evidently documents: {len(evidently_docs)}\")\n",
    "\n",
    "if __name__ == \"__main__\":\n",
    "    main()\n"
   ]
  }
 ],
 "metadata": {
  "kernelspec": {
   "display_name": "course",
   "language": "python",
   "name": "python3"
  },
  "language_info": {
   "codemirror_mode": {
    "name": "ipython",
    "version": 3
   },
   "file_extension": ".py",
   "mimetype": "text/x-python",
   "name": "python",
   "nbconvert_exporter": "python",
   "pygments_lexer": "ipython3",
   "version": "3.12.9"
  }
 },
 "nbformat": 4,
 "nbformat_minor": 5
}
